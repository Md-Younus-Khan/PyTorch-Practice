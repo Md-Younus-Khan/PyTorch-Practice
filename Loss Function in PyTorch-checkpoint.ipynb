{
 "cells": [
  {
   "cell_type": "code",
   "execution_count": 1,
   "id": "09d9c1f7",
   "metadata": {},
   "outputs": [],
   "source": [
    "import torch\n",
    "import torch.nn as nn"
   ]
  },
  {
   "cell_type": "markdown",
   "id": "a7153e21",
   "metadata": {},
   "source": [
    "## MSE Loss"
   ]
  },
  {
   "cell_type": "code",
   "execution_count": 4,
   "id": "4eee9eac",
   "metadata": {},
   "outputs": [],
   "source": [
    "prediction=torch.randn(4,5) #input\n",
    "label=torch.randn(4,5) # target"
   ]
  },
  {
   "cell_type": "code",
   "execution_count": 4,
   "id": "7da349e8",
   "metadata": {},
   "outputs": [
    {
     "data": {
      "text/plain": [
       "tensor(1.8961)"
      ]
     },
     "execution_count": 4,
     "metadata": {},
     "output_type": "execute_result"
    }
   ],
   "source": [
    "mse= nn.MSELoss(reduction ='mean')\n",
    "loss=mse(prediction,label)\n",
    "loss"
   ]
  },
  {
   "cell_type": "code",
   "execution_count": 6,
   "id": "e98d0447",
   "metadata": {},
   "outputs": [
    {
     "data": {
      "text/plain": [
       "tensor(1.8961)"
      ]
     },
     "execution_count": 6,
     "metadata": {},
     "output_type": "execute_result"
    }
   ],
   "source": [
    "((prediction-label)**2).mean()"
   ]
  },
  {
   "cell_type": "markdown",
   "id": "87857df4",
   "metadata": {},
   "source": [
    "## Binary Cross Entropy Loss"
   ]
  },
  {
   "cell_type": "code",
   "execution_count": 26,
   "id": "221ee405",
   "metadata": {},
   "outputs": [
    {
     "data": {
      "text/plain": [
       "tensor([[0., 1., 1., 0., 0.],\n",
       "        [0., 1., 1., 0., 1.],\n",
       "        [1., 1., 1., 1., 1.],\n",
       "        [0., 0., 1., 1., 1.]])"
      ]
     },
     "execution_count": 26,
     "metadata": {},
     "output_type": "execute_result"
    }
   ],
   "source": [
    "label=torch.zeros(4,5).random_(0,2)\n",
    "label"
   ]
  },
  {
   "cell_type": "code",
   "execution_count": 27,
   "id": "7e49b420",
   "metadata": {},
   "outputs": [],
   "source": [
    "bce= nn.BCELoss(reduction='mean')\n",
    "sigmoid=nn.Sigmoid()"
   ]
  },
  {
   "cell_type": "code",
   "execution_count": 28,
   "id": "5f374fdf",
   "metadata": {},
   "outputs": [
    {
     "data": {
      "text/plain": [
       "tensor(0.7543)"
      ]
     },
     "execution_count": 28,
     "metadata": {},
     "output_type": "execute_result"
    }
   ],
   "source": [
    "bce(sigmoid(prediction),label)"
   ]
  },
  {
   "cell_type": "code",
   "execution_count": 29,
   "id": "913dbc94",
   "metadata": {},
   "outputs": [
    {
     "data": {
      "text/plain": [
       "tensor(0.7543)"
      ]
     },
     "execution_count": 29,
     "metadata": {},
     "output_type": "execute_result"
    }
   ],
   "source": [
    "bces= nn.BCEWithLogitsLoss(reduction= 'mean')\n",
    "bces(prediction,label)"
   ]
  },
  {
   "cell_type": "markdown",
   "id": "66ef786e",
   "metadata": {},
   "source": [
    "## Numpy implementation\n",
    "because lists are time consuming"
   ]
  },
  {
   "cell_type": "code",
   "execution_count": 2,
   "id": "30fbe8de",
   "metadata": {},
   "outputs": [],
   "source": [
    "import numpy as np"
   ]
  },
  {
   "cell_type": "code",
   "execution_count": 36,
   "id": "de17597c",
   "metadata": {},
   "outputs": [],
   "source": [
    "x=prediction.numpy()\n",
    "y=label.numpy()"
   ]
  },
  {
   "cell_type": "code",
   "execution_count": 32,
   "id": "1cf939a0",
   "metadata": {},
   "outputs": [],
   "source": [
    "def sigmoid(x):\n",
    "    return 1/(1+np.exp(-x))"
   ]
  },
  {
   "cell_type": "code",
   "execution_count": 37,
   "id": "46da27f0",
   "metadata": {},
   "outputs": [
    {
     "name": "stdout",
     "output_type": "stream",
     "text": [
      "[[ 0.04552053 -1.1774291  -1.5634993   0.7498118   1.8019177 ]\n",
      " [-0.734017   -0.73632747  0.5587094  -0.12531994 -0.5406369 ]\n",
      " [ 1.3721094   1.6399989   1.5724233   1.0965109  -0.35268596]\n",
      " [-1.4873792  -1.5600015  -0.8833712  -0.22771786  1.1618035 ]]\n",
      "[[0.51137817 0.23551476 0.17314509 0.67913765 0.8583822 ]\n",
      " [0.32431382 0.32380775 0.6361539  0.46871096 0.36803943]\n",
      " [0.79772073 0.8375348  0.8281288  0.7496058  0.4127313 ]\n",
      " [0.18431541 0.17364642 0.2924797  0.44331524 0.7616603 ]]\n"
     ]
    }
   ],
   "source": [
    "print(x)\n",
    "print(sigmoid(x))"
   ]
  },
  {
   "cell_type": "code",
   "execution_count": 38,
   "id": "d0796f75",
   "metadata": {},
   "outputs": [
    {
     "name": "stdout",
     "output_type": "stream",
     "text": [
      "0.7542846074746271\n"
     ]
    }
   ],
   "source": [
    "x=sigmoid(x)\n",
    "loss_values=[]\n",
    "for i in range(len(y)):\n",
    "    batch_loss=[]\n",
    "    for j in range(len(y[0])):\n",
    "        batch_loss.append(-np.log(x[i][j]) if y[i][j]==1 else -np.log(1-x[i][j]))\n",
    "    loss_values.append(batch_loss)\n",
    "print(np.mean(loss_values))"
   ]
  },
  {
   "cell_type": "markdown",
   "id": "e358c3d7",
   "metadata": {},
   "source": [
    "## Weight initialization"
   ]
  },
  {
   "cell_type": "code",
   "execution_count": 50,
   "id": "a5fcc37d",
   "metadata": {},
   "outputs": [
    {
     "name": "stdout",
     "output_type": "stream",
     "text": [
      "Parameter containing:\n",
      "tensor([[-0.2299, -0.0466, -0.3708, -0.1004, -0.4236],\n",
      "        [-0.1491,  0.2098,  0.4284, -0.1519, -0.2041],\n",
      "        [-0.1463, -0.2627, -0.2122,  0.0127, -0.3216],\n",
      "        [ 0.2948, -0.1676, -0.4331, -0.4381, -0.0104],\n",
      "        [-0.1977, -0.2850, -0.3745,  0.4308, -0.3619]], requires_grad=True)\n"
     ]
    }
   ],
   "source": [
    "layer=nn.Linear(5,5)\n",
    "print(layer.weight)"
   ]
  },
  {
   "cell_type": "code",
   "execution_count": 49,
   "id": "a468179a",
   "metadata": {},
   "outputs": [
    {
     "data": {
      "text/plain": [
       "tensor([[0.4007, 0.7538, 0.2810, 0.1080, 0.0250],\n",
       "        [0.3180, 0.9785, 0.5931, 0.0541, 0.0605],\n",
       "        [0.5983, 0.2368, 0.8176, 0.5504, 0.5245],\n",
       "        [0.9410, 0.7079, 0.0486, 0.1650, 0.6996],\n",
       "        [0.1363, 0.1987, 0.5833, 0.0049, 0.7870]])"
      ]
     },
     "execution_count": 49,
     "metadata": {},
     "output_type": "execute_result"
    }
   ],
   "source": [
    "nn.init.uniform_(layer.weight.data,a=0,b=1)"
   ]
  },
  {
   "cell_type": "code",
   "execution_count": 55,
   "id": "06711313",
   "metadata": {},
   "outputs": [
    {
     "data": {
      "text/plain": [
       "Parameter containing:\n",
       "tensor([[1.5000, 1.5000, 1.5000, 1.5000, 1.5000],\n",
       "        [1.5000, 1.5000, 1.5000, 1.5000, 1.5000],\n",
       "        [1.5000, 1.5000, 1.5000, 1.5000, 1.5000],\n",
       "        [1.5000, 1.5000, 1.5000, 1.5000, 1.5000],\n",
       "        [1.5000, 1.5000, 1.5000, 1.5000, 1.5000]], requires_grad=True)"
      ]
     },
     "execution_count": 55,
     "metadata": {},
     "output_type": "execute_result"
    }
   ],
   "source": [
    "nn.init.constant_(layer.weight,1.5) # Not used"
   ]
  },
  {
   "cell_type": "code",
   "execution_count": 56,
   "id": "321258a4",
   "metadata": {},
   "outputs": [
    {
     "data": {
      "text/plain": [
       "Parameter containing:\n",
       "tensor([1.5000, 1.5000, 1.5000, 1.5000, 1.5000], requires_grad=True)"
      ]
     },
     "execution_count": 56,
     "metadata": {},
     "output_type": "execute_result"
    }
   ],
   "source": [
    "nn.init.constant_(layer.bias,1.5) "
   ]
  },
  {
   "cell_type": "code",
   "execution_count": 53,
   "id": "4709534c",
   "metadata": {},
   "outputs": [
    {
     "data": {
      "text/plain": [
       "Parameter containing:\n",
       "tensor([[-0.2610,  0.6897,  0.0051, -1.2690,  0.0798],\n",
       "        [-0.1847,  0.6756,  0.4114,  0.2486, -0.4882],\n",
       "        [-0.2873,  0.7859,  1.0290, -2.0959,  0.2280],\n",
       "        [ 1.0409,  0.3036, -0.3518,  0.3663,  0.3631],\n",
       "        [-0.4027,  1.5003, -0.3487,  1.5931,  0.3396]], requires_grad=True)"
      ]
     },
     "execution_count": 53,
     "metadata": {},
     "output_type": "execute_result"
    }
   ],
   "source": [
    "nn.init.normal_(layer.weight,mean=0,std=1)"
   ]
  },
  {
   "cell_type": "code",
   "execution_count": 57,
   "id": "f9729671",
   "metadata": {},
   "outputs": [
    {
     "data": {
      "text/plain": [
       "Parameter containing:\n",
       "tensor([[-2.1719e-01, -1.4582e-01, -1.0145e-01, -2.8100e-01, -1.7589e-01],\n",
       "        [ 2.0184e-01, -1.1840e-01,  1.2264e-01, -5.7026e-01, -2.0965e-02],\n",
       "        [ 8.7806e-01, -3.6449e-01, -8.7530e-04,  1.8208e-01,  4.2400e-01],\n",
       "        [-5.3750e-01, -3.5745e-01, -2.1193e-01,  2.4263e-01, -2.8164e-01],\n",
       "        [ 1.9545e-01, -6.9395e-01,  1.1256e-01,  3.6696e-01, -1.7162e-01]],\n",
       "       requires_grad=True)"
      ]
     },
     "execution_count": 57,
     "metadata": {},
     "output_type": "execute_result"
    }
   ],
   "source": [
    "nn.init.xavier_normal_(layer.weight,gain=1) "
   ]
  },
  {
   "cell_type": "code",
   "execution_count": null,
   "id": "ff883087",
   "metadata": {},
   "outputs": [],
   "source": []
  }
 ],
 "metadata": {
  "kernelspec": {
   "display_name": "env13-NLP",
   "language": "python",
   "name": "env13"
  },
  "language_info": {
   "codemirror_mode": {
    "name": "ipython",
    "version": 3
   },
   "file_extension": ".py",
   "mimetype": "text/x-python",
   "name": "python",
   "nbconvert_exporter": "python",
   "pygments_lexer": "ipython3",
   "version": "3.10.9"
  }
 },
 "nbformat": 4,
 "nbformat_minor": 5
}
