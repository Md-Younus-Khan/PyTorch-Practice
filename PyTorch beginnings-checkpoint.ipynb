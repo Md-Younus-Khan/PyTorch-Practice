{
 "cells": [
  {
   "cell_type": "code",
   "execution_count": 1,
   "id": "6f0279ba",
   "metadata": {},
   "outputs": [],
   "source": [
    "import torch"
   ]
  },
  {
   "cell_type": "code",
   "execution_count": 2,
   "id": "baa8c13b",
   "metadata": {},
   "outputs": [],
   "source": [
    "import torchvision"
   ]
  },
  {
   "cell_type": "code",
   "execution_count": 4,
   "id": "8c1f5fe9",
   "metadata": {},
   "outputs": [
    {
     "name": "stdout",
     "output_type": "stream",
     "text": [
      "tensor([2, 2, 1])\n"
     ]
    }
   ],
   "source": [
    "#1D tensor\n",
    "a=torch.tensor([2,2,1])\n",
    "print(a)"
   ]
  },
  {
   "cell_type": "code",
   "execution_count": 8,
   "id": "f19e1070",
   "metadata": {},
   "outputs": [
    {
     "name": "stdout",
     "output_type": "stream",
     "text": [
      "tensor([[2, 1, 4],\n",
      "        [3, 5, 4],\n",
      "        [1, 2, 0],\n",
      "        [4, 3, 2]])\n"
     ]
    }
   ],
   "source": [
    "#2D tensor\n",
    "b=torch.tensor([[2,1,4],[3,5,4],[1,2,0],[4,3,2]])\n",
    "print(b)"
   ]
  },
  {
   "cell_type": "code",
   "execution_count": 9,
   "id": "c7c13603",
   "metadata": {},
   "outputs": [
    {
     "name": "stdout",
     "output_type": "stream",
     "text": [
      "torch.Size([3])\n",
      "torch.Size([3])\n",
      "torch.Size([4, 3])\n",
      "torch.Size([4, 3])\n"
     ]
    }
   ],
   "source": [
    "#size of the tensors\n",
    "print(a.shape)\n",
    "print(a.size())\n",
    "print(b.shape)\n",
    "print(b.size())"
   ]
  },
  {
   "cell_type": "code",
   "execution_count": 12,
   "id": "186f1883",
   "metadata": {},
   "outputs": [
    {
     "name": "stdout",
     "output_type": "stream",
     "text": [
      "4\n"
     ]
    }
   ],
   "source": [
    "#number of the rows\n",
    "print(b.shape[0])"
   ]
  },
  {
   "cell_type": "code",
   "execution_count": 14,
   "id": "9b399f7a",
   "metadata": {},
   "outputs": [
    {
     "name": "stdout",
     "output_type": "stream",
     "text": [
      "tensor([[2., 1., 4.],\n",
      "        [3., 5., 4.],\n",
      "        [1., 2., 0.],\n",
      "        [4., 3., 2.]])\n",
      "torch.float32\n"
     ]
    }
   ],
   "source": [
    "c=torch.FloatTensor([[2,1,4],[3,5,4],[1,2,0],[4,3,2]])\n",
    "print(c)\n",
    "print(c.dtype)"
   ]
  },
  {
   "cell_type": "code",
   "execution_count": 18,
   "id": "72220e85",
   "metadata": {},
   "outputs": [
    {
     "name": "stdout",
     "output_type": "stream",
     "text": [
      "tensor(2.5833)\n",
      "tensor(2.)\n",
      "tensor(1.5050)\n"
     ]
    }
   ],
   "source": [
    "print(c.mean())\n",
    "print(c.median())\n",
    "print(c.std())"
   ]
  },
  {
   "cell_type": "code",
   "execution_count": 16,
   "id": "fe00526a",
   "metadata": {},
   "outputs": [
    {
     "name": "stdout",
     "output_type": "stream",
     "text": [
      "tensor([[2., 1., 4.],\n",
      "        [3., 5., 4.],\n",
      "        [1., 2., 0.],\n",
      "        [4., 3., 2.]], dtype=torch.float64)\n",
      "torch.float64\n"
     ]
    }
   ],
   "source": [
    "d=torch.DoubleTensor([[2,1,4],[3,5,4],[1,2,0],[4,3,2]])\n",
    "print(d)\n",
    "print(d.dtype)"
   ]
  },
  {
   "cell_type": "code",
   "execution_count": 19,
   "id": "6ad6c7aa",
   "metadata": {},
   "outputs": [
    {
     "name": "stdout",
     "output_type": "stream",
     "text": [
      "tensor(2.5833, dtype=torch.float64)\n",
      "tensor(2., dtype=torch.float64)\n",
      "tensor(1.5050, dtype=torch.float64)\n"
     ]
    }
   ],
   "source": [
    "print(d.mean())\n",
    "print(d.median())\n",
    "print(d.std())"
   ]
  },
  {
   "cell_type": "code",
   "execution_count": 24,
   "id": "e3f0a8d3",
   "metadata": {},
   "outputs": [
    {
     "name": "stdout",
     "output_type": "stream",
     "text": [
      "tensor([[2],\n",
      "        [1],\n",
      "        [4],\n",
      "        [3],\n",
      "        [5],\n",
      "        [4],\n",
      "        [1],\n",
      "        [2],\n",
      "        [0],\n",
      "        [4],\n",
      "        [3],\n",
      "        [2]])\n",
      "tensor([2, 1, 4, 3, 5, 4, 1, 2, 0, 4, 3, 2])\n",
      "tensor([[2, 1, 4, 3, 5, 4, 1, 2, 0, 4, 3, 2]])\n",
      "tensor([[2, 1, 4, 3],\n",
      "        [5, 4, 1, 2],\n",
      "        [0, 4, 3, 2]])\n",
      "tensor([[2, 1, 4, 3],\n",
      "        [5, 4, 1, 2],\n",
      "        [0, 4, 3, 2]])\n"
     ]
    }
   ],
   "source": [
    "#Reshaping b\n",
    "print(b.view(-1,1))\n",
    "print(b.view(12))\n",
    "print(b.view(1,-1))\n",
    "print(b.view(-1,4))\n",
    "print(b.view(3,4))"
   ]
  },
  {
   "cell_type": "code",
   "execution_count": 28,
   "id": "89883f1c",
   "metadata": {},
   "outputs": [
    {
     "name": "stdout",
     "output_type": "stream",
     "text": [
      "tensor([[[-1.3047, -0.3773, -0.3984, -0.9070],\n",
      "         [-0.4165,  0.8252,  0.3701,  1.0821],\n",
      "         [ 0.8480,  0.6455,  0.2924,  1.0029]],\n",
      "\n",
      "        [[ 0.9293, -1.1555, -1.1574,  0.7898],\n",
      "         [ 0.0026,  0.2590,  1.0720, -1.2973],\n",
      "         [ 0.6933,  0.6736,  0.1336, -0.3962]]])\n",
      "\n",
      "\n",
      "tensor([[[-1.3047, -0.3773, -0.3984, -0.9070, -0.4165,  0.8252],\n",
      "         [ 0.3701,  1.0821,  0.8480,  0.6455,  0.2924,  1.0029]],\n",
      "\n",
      "        [[ 0.9293, -1.1555, -1.1574,  0.7898,  0.0026,  0.2590],\n",
      "         [ 1.0720, -1.2973,  0.6933,  0.6736,  0.1336, -0.3962]]])\n",
      "\n",
      "\n",
      "tensor([[-1.3047, -0.3773, -0.3984, -0.9070, -0.4165,  0.8252,  0.3701,  1.0821,\n",
      "          0.8480,  0.6455,  0.2924,  1.0029],\n",
      "        [ 0.9293, -1.1555, -1.1574,  0.7898,  0.0026,  0.2590,  1.0720, -1.2973,\n",
      "          0.6933,  0.6736,  0.1336, -0.3962]])\n",
      "tensor([[-1.3047, -0.3773, -0.3984, -0.9070, -0.4165,  0.8252,  0.3701,  1.0821,\n",
      "          0.8480,  0.6455,  0.2924,  1.0029],\n",
      "        [ 0.9293, -1.1555, -1.1574,  0.7898,  0.0026,  0.2590,  1.0720, -1.2973,\n",
      "          0.6933,  0.6736,  0.1336, -0.3962]])\n"
     ]
    }
   ],
   "source": [
    "#3D tensor (Channel,row,column)\n",
    "three_dim=torch.randn(2,3,4) # 2 channels, 3 rows and 4 columns\n",
    "print(three_dim)\n",
    "#Reshape 3D tensor\n",
    "print('\\n')\n",
    "print(three_dim.view(2,2,-1)) # Reshaping to 2 chennels, 2 rows \n",
    "\n",
    "#3D to 2D\n",
    "print('\\n')\n",
    "print(three_dim.view(2,-1)) # reshaping to 2 rows\n",
    "print(three_dim.view(2,12)) # reshaping to 2 rows and 12 columns"
   ]
  },
  {
   "cell_type": "code",
   "execution_count": 10,
   "id": "c8ed1d6b",
   "metadata": {},
   "outputs": [
    {
     "name": "stdout",
     "output_type": "stream",
     "text": [
      "tensor([1, 3, 3, 1, 4])\n",
      "torch.int64\n",
      "torch.Size([5])\n",
      "5\n"
     ]
    }
   ],
   "source": [
    "#Array of random integers (between 1 and 4 exclusive of 5)\n",
    "in_array=torch.randint(1,5,(5,))\n",
    "print(in_array)\n",
    "print(in_array.dtype)\n",
    "print(in_array.shape)\n",
    "print(in_array.numel()) # or torch.numel(in_array)"
   ]
  },
  {
   "cell_type": "code",
   "execution_count": 11,
   "id": "a588ec20",
   "metadata": {},
   "outputs": [
    {
     "name": "stdout",
     "output_type": "stream",
     "text": [
      "tensor([[2, 8, 6],\n",
      "        [1, 5, 7],\n",
      "        [1, 7, 1]])\n",
      "torch.int64\n",
      "torch.Size([3, 3])\n",
      "9\n"
     ]
    }
   ],
   "source": [
    "#2D array or matrix of random integers (between 1 and 9 exclusive of 10)\n",
    "in_array2=torch.randint(1,10,(3,3))\n",
    "print(in_array2)\n",
    "print(in_array2.dtype)\n",
    "print(in_array2.shape)\n",
    "print(torch.numel(in_array2))"
   ]
  },
  {
   "cell_type": "code",
   "execution_count": 16,
   "id": "0f0a4d52",
   "metadata": {},
   "outputs": [
    {
     "name": "stdout",
     "output_type": "stream",
     "text": [
      "tensor([[0, 0, 0],\n",
      "        [0, 0, 0],\n",
      "        [0, 0, 0]])\n",
      "torch.int64\n",
      "torch.float32\n"
     ]
    }
   ],
   "source": [
    "# 3x3 matrices of zeros and ones\n",
    "z=torch.zeros(3,3,dtype=torch.long)\n",
    "o=torch.ones(3,3)\n",
    "print(z)\n",
    "print(z.dtype)\n",
    "\n",
    "(o)\n",
    "print(o.dtype)"
   ]
  },
  {
   "cell_type": "code",
   "execution_count": 15,
   "id": "8feb12b6",
   "metadata": {},
   "outputs": [
    {
     "name": "stdout",
     "output_type": "stream",
     "text": [
      "tensor([[-1.0826,  0.2848,  1.3577],\n",
      "        [ 1.5120,  1.4048, -0.5509],\n",
      "        [-1.3997,  0.3687,  1.7456]], dtype=torch.float64)\n"
     ]
    }
   ],
   "source": [
    "in_array2_like=torch.randn_like(in_array2,dtype=torch.double)\n",
    "print(in_array2_like)"
   ]
  },
  {
   "cell_type": "code",
   "execution_count": 18,
   "id": "03020798",
   "metadata": {},
   "outputs": [
    {
     "name": "stdout",
     "output_type": "stream",
     "text": [
      "tensor([[2, 1, 4],\n",
      "        [3, 5, 4],\n",
      "        [1, 2, 0]]) \n",
      " tensor([[3, 5, 4],\n",
      "        [1, 2, 0],\n",
      "        [4, 3, 2]]) \n",
      " tensor([[5, 6, 8],\n",
      "        [4, 7, 4],\n",
      "        [5, 5, 2]])\n"
     ]
    }
   ],
   "source": [
    "#Addition\n",
    "r1=torch.tensor([[2,1,4],[3,5,4],[1,2,0]])\n",
    "r2=torch.tensor([[3,5,4],[1,2,0],[4,3,2]])\n",
    "add=torch.add(r1,r2)\n",
    "print(r1,'\\n',r2,'\\n',add)"
   ]
  },
  {
   "cell_type": "code",
   "execution_count": 20,
   "id": "0f7888e6",
   "metadata": {},
   "outputs": [
    {
     "name": "stdout",
     "output_type": "stream",
     "text": [
      "tensor([[5, 6, 8],\n",
      "        [4, 7, 4],\n",
      "        [5, 5, 2]])\n"
     ]
    }
   ],
   "source": [
    "# In place addition\n",
    "r1.add_(r2)\n",
    "print(r1)"
   ]
  },
  {
   "cell_type": "code",
   "execution_count": 35,
   "id": "212ea847",
   "metadata": {},
   "outputs": [
    {
     "name": "stdout",
     "output_type": "stream",
     "text": [
      "tensor([3, 1, 4])\n",
      "tensor([4, 0, 2])\n",
      "tensor([4, 3, 2])\n",
      "tensor(3)\n",
      "3\n"
     ]
    }
   ],
   "source": [
    "# Matrix slicing \n",
    "print(r2[:,0]) # 1st column\n",
    "print(r2[:,2]) # 3rd column\n",
    "print(r2[2,:]) # 3rd row\n",
    "num1=r2[0,0] # 1st element\n",
    "print(num1)\n",
    "print(num1.item())"
   ]
  },
  {
   "cell_type": "markdown",
   "id": "faa07305",
   "metadata": {},
   "source": [
    "# Numpy bridge"
   ]
  },
  {
   "cell_type": "code",
   "execution_count": 36,
   "id": "6dbf5146",
   "metadata": {},
   "outputs": [],
   "source": [
    "import numpy as np"
   ]
  },
  {
   "cell_type": "code",
   "execution_count": 40,
   "id": "56be7a64",
   "metadata": {},
   "outputs": [
    {
     "name": "stdout",
     "output_type": "stream",
     "text": [
      "tensor([1., 1., 1., 1., 1.])\n",
      "[1. 1. 1. 1. 1.]\n",
      "tensor([2., 2., 2., 2., 2.])\n",
      "[2. 2. 2. 2. 2.]\n"
     ]
    }
   ],
   "source": [
    "# converting a torch tensor to a numpy array\n",
    "a=torch.ones(5)\n",
    "b=a.numpy()\n",
    "print(a)\n",
    "print(b)\n",
    "# Numpy array changes its vale as the torch tensor value changes\n",
    "a.add_(1)\n",
    "print(a)\n",
    "print(b)"
   ]
  },
  {
   "cell_type": "code",
   "execution_count": 42,
   "id": "b9b77f20",
   "metadata": {},
   "outputs": [
    {
     "name": "stdout",
     "output_type": "stream",
     "text": [
      "[1. 1. 1. 1. 1.]\n",
      "tensor([1., 1., 1., 1., 1.], dtype=torch.float64)\n",
      "[2. 2. 2. 2. 2.]\n",
      "tensor([2., 2., 2., 2., 2.], dtype=torch.float64)\n"
     ]
    }
   ],
   "source": [
    "# Converting Numpy array to Torch tensor\n",
    "a = np.ones(5)\n",
    "b = torch.from_numpy(a)\n",
    "print(a)\n",
    "print(b)\n",
    "# Changing the numpy array changes the torch tensors automatically\n",
    "np.add(a,1,out=a)\n",
    "print(a)\n",
    "print(b)"
   ]
  },
  {
   "cell_type": "code",
   "execution_count": 43,
   "id": "63f6f8eb",
   "metadata": {},
   "outputs": [
    {
     "name": "stdout",
     "output_type": "stream",
     "text": [
      "False\n"
     ]
    }
   ],
   "source": [
    "CUDA=torch.cuda.is_available()\n",
    "print(CUDA)"
   ]
  },
  {
   "cell_type": "markdown",
   "id": "f72ff550",
   "metadata": {},
   "source": [
    "##  AutoGrad"
   ]
  },
  {
   "cell_type": "code",
   "execution_count": 15,
   "id": "5d03a596",
   "metadata": {},
   "outputs": [
    {
     "name": "stdout",
     "output_type": "stream",
     "text": [
      "tensor([5., 7., 9.], grad_fn=<AddBackward0>)\n"
     ]
    }
   ],
   "source": [
    "x = torch.tensor([1.,2.,3.],requires_grad=True)\n",
    "y =torch.tensor([4.,5.,6.], requires_grad=True)\n",
    "z=x+y\n",
    "print(z)"
   ]
  },
  {
   "cell_type": "code",
   "execution_count": 4,
   "id": "75360ce2",
   "metadata": {},
   "outputs": [
    {
     "name": "stdout",
     "output_type": "stream",
     "text": [
      "<AddBackward0 object at 0x000001E11024C4F0>\n"
     ]
    }
   ],
   "source": [
    "print(z.grad_fn)"
   ]
  },
  {
   "cell_type": "code",
   "execution_count": 17,
   "id": "9365896f",
   "metadata": {},
   "outputs": [
    {
     "name": "stdout",
     "output_type": "stream",
     "text": [
      "tensor(21., grad_fn=<SumBackward0>)\n",
      "<SumBackward0 object at 0x000001E1016C6B90>\n"
     ]
    }
   ],
   "source": [
    "s=z.sum()\n",
    "print(s)\n",
    "print(s.grad_fn)"
   ]
  },
  {
   "cell_type": "code",
   "execution_count": 18,
   "id": "744a33df",
   "metadata": {},
   "outputs": [
    {
     "name": "stdout",
     "output_type": "stream",
     "text": [
      "tensor([1., 1., 1.])\n"
     ]
    }
   ],
   "source": [
    "s.backward()\n",
    "print(x.grad)"
   ]
  },
  {
   "cell_type": "code",
   "execution_count": 20,
   "id": "55468880",
   "metadata": {},
   "outputs": [
    {
     "name": "stdout",
     "output_type": "stream",
     "text": [
      "tensor([5., 7., 9.])\n"
     ]
    }
   ],
   "source": [
    "z_new=z.detach()\n",
    "print(z_new)"
   ]
  },
  {
   "cell_type": "code",
   "execution_count": 28,
   "id": "033c710e",
   "metadata": {},
   "outputs": [
    {
     "name": "stdout",
     "output_type": "stream",
     "text": [
      "tensor([[1., 1.],\n",
      "        [1., 1.]], requires_grad=True)\n",
      "tensor([[3., 3.],\n",
      "        [3., 3.]], grad_fn=<AddBackward0>)\n",
      "tensor([[27., 27.],\n",
      "        [27., 27.]], grad_fn=<MulBackward0>)\n",
      "tensor(27., grad_fn=<MeanBackward0>)\n",
      "tensor([[4.5000, 4.5000],\n",
      "        [4.5000, 4.5000]])\n"
     ]
    }
   ],
   "source": [
    "x=torch.ones(2,2,requires_grad=True)\n",
    "print(x)\n",
    "y=x+2\n",
    "print(y)\n",
    "z=y*y*3\n",
    "print(z)\n",
    "out=z.mean()\n",
    "print(out)\n",
    "out.backward()\n",
    "print(x.grad)"
   ]
  }
 ],
 "metadata": {
  "kernelspec": {
   "display_name": "env13-NLP",
   "language": "python",
   "name": "env13"
  },
  "language_info": {
   "codemirror_mode": {
    "name": "ipython",
    "version": 3
   },
   "file_extension": ".py",
   "mimetype": "text/x-python",
   "name": "python",
   "nbconvert_exporter": "python",
   "pygments_lexer": "ipython3",
   "version": "3.10.9"
  }
 },
 "nbformat": 4,
 "nbformat_minor": 5
}
